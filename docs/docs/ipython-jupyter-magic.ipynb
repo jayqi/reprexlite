{
 "cells": [
  {
   "cell_type": "markdown",
   "id": "national-paint",
   "metadata": {},
   "source": [
    "# IPython/Jupyter Magic"
   ]
  },
  {
   "cell_type": "markdown",
   "id": "pursuant-prison",
   "metadata": {},
   "source": [
    "Reprex-rendering is also available in IPython or Jupyter through the IPython cell magic `%%reprex`. To use, first import `reprexlite`:"
   ]
  },
  {
   "cell_type": "code",
   "execution_count": 1,
   "id": "talented-dover",
   "metadata": {},
   "outputs": [],
   "source": [
    "import reprexlite"
   ]
  },
  {
   "cell_type": "markdown",
   "id": "quiet-owner",
   "metadata": {},
   "source": [
    "and then simply use the `%%reprex` magic with your code in the same cell."
   ]
  },
  {
   "cell_type": "code",
   "execution_count": 2,
   "id": "alone-occurrence",
   "metadata": {},
   "outputs": [
    {
     "name": "stdout",
     "output_type": "stream",
     "text": [
      "```python\n",
      "from itertools import product\n",
      "\n",
      "grid = list(product([1, 2, 3], [8, 16]))\n",
      "grid\n",
      "#> [(1, 8), (1, 16), (2, 8), (2, 16), (3, 8), (3, 16)]\n",
      "list(zip(*grid))\n",
      "#> [(1, 1, 2, 2, 3, 3), (8, 16, 8, 16, 8, 16)]\n",
      "```\n",
      "\n",
      "<sup>Created at 2021-02-27 01:46:18 PST by [reprexlite](https://github.com/jayqi/reprexlite) v0.3.1</sup>\n",
      "\n"
     ]
    }
   ],
   "source": [
    "%%reprex\n",
    "\n",
    "from itertools import product\n",
    "\n",
    "grid = list(product([1, 2, 3], [8, 16]))\n",
    "grid\n",
    "list(zip(*grid))"
   ]
  },
  {
   "cell_type": "markdown",
   "id": "ancient-breakdown",
   "metadata": {},
   "source": [
    "That's it! The cell magic shares the same interface and command-line options as the CLI. "
   ]
  },
  {
   "cell_type": "code",
   "execution_count": 3,
   "id": "radical-study",
   "metadata": {},
   "outputs": [
    {
     "name": "stdout",
     "output_type": "stream",
     "text": [
      "```\n",
      "x = 2\n",
      "x + 2\n",
      "#> 4\n",
      "```\n",
      "\n"
     ]
    }
   ],
   "source": [
    "%%reprex -v slack\n",
    "x = 2\n",
    "x + 2"
   ]
  },
  {
   "cell_type": "markdown",
   "id": "destroyed-alberta",
   "metadata": {},
   "source": [
    "You can use the `%reprex` line magic (single-`%`) to print out documentation."
   ]
  },
  {
   "cell_type": "code",
   "execution_count": 4,
   "id": "academic-estate",
   "metadata": {},
   "outputs": [
    {
     "name": "stdout",
     "output_type": "stream",
     "text": [
      "reprexlite v0.3.1 IPython Magic\n",
      "\n",
      "Cell Magic Usage: %%reprex [OPTIONS]\n",
      "\n",
      "  Render reproducible examples of Python code for sharing. Your code will be\n",
      "  executed and the results will be embedded as comments below their associated\n",
      "  lines.\n",
      "\n",
      "  Additional markup will be added that is appropriate to the choice of venue\n",
      "  option. For example, for the default `gh` venue for GitHub Flavored\n",
      "  Markdown, the final reprex will look like:\n",
      "\n",
      "  ----------------------------------------\n",
      "  ```python\n",
      "  arr = [1, 2, 3, 4, 5]\n",
      "  [x + 1 for x in arr]\n",
      "  #> [2, 3, 4, 5, 6]\n",
      "  max(arr) - min(arr)\n",
      "  #> 4\n",
      "  ```\n",
      " \n",
      "  <sup>Created at 2021-02-27 00:13:55 PST by [reprexlite](https://github.com/jayqi/reprexlite) v0.3.1</sup>\n",
      "  ----------------------------------------\n",
      "\n",
      "  The supported venue formats are:\n",
      " \n",
      "  - gh : GitHub Flavored Markdown\n",
      "  - so : StackOverflow, alias for gh\n",
      "  - ds : Discourse, alias for gh\n",
      "  - html : HTML\n",
      "  - py : Python script\n",
      "  - rtf : Rich Text Format\n",
      "  - slack : Slack\n",
      "\n",
      "Options:\n",
      "  -i, --infile PATH               Read code from an input file instead via\n",
      "                                  editor.\n",
      "\n",
      "  -o, --outfile PATH              Write output to file instead of printing to\n",
      "                                  console.\n",
      "\n",
      "  -v, --venue [gh|so|ds|html|py|rtf|slack]\n",
      "                                  Output format appropriate to the venue where\n",
      "                                  you plan to share this code.  [default: gh]\n",
      "\n",
      "  --advertise / --no-advertise    Whether to include footer that credits\n",
      "                                  reprexlite. If unspecified, will depend on\n",
      "                                  specified venue's default.\n",
      "\n",
      "  --session-info                  Whether to include details about session and\n",
      "                                  installed packages.\n",
      "\n",
      "  --style                         Autoformat code with black. Requires black to\n",
      "                                  be installed.\n",
      "\n",
      "  --comment TEXT                  Comment prefix to use for results returned by\n",
      "                                  expressions.  [default: #>]\n",
      "\n",
      "  --old-results                   Keep old results, i.e., lines that match the\n",
      "                                  prefix specified by the --comment option. If\n",
      "                                  not using this option, then such lines are\n",
      "                                  removed, meaning that an input that is a\n",
      "                                  reprex will be effectively regenerated.\n",
      "\n"
     ]
    }
   ],
   "source": [
    "%reprex"
   ]
  },
  {
   "cell_type": "markdown",
   "id": "gross-oregon",
   "metadata": {},
   "source": [
    "---"
   ]
  },
  {
   "cell_type": "markdown",
   "id": "indoor-specialist",
   "metadata": {},
   "source": [
    "Note that—just like other ways of rendering a reprex—your code is evaluated in an isolated namespace that is separate from the namespace of your IPython session or your notebook. That means, for example, variables defined in your notebook won't exist in your reprex."
   ]
  },
  {
   "cell_type": "code",
   "execution_count": 5,
   "id": "recorded-respondent",
   "metadata": {},
   "outputs": [],
   "source": [
    "notebook_var = 2"
   ]
  },
  {
   "cell_type": "code",
   "execution_count": 6,
   "id": "knowing-planning",
   "metadata": {},
   "outputs": [
    {
     "name": "stdout",
     "output_type": "stream",
     "text": [
      "```python\n",
      "notebook_var\n",
      "#> Traceback (most recent call last):\n",
      "#>   File \"/Users/jqi/repos/reprexlite/reprexlite/code.py\", line 69, in evaluate\n",
      "#>     result = eval(str(self).strip(), scope, scope)\n",
      "#>   File \"<string>\", line 1, in <module>\n",
      "#> NameError: name 'notebook_var' is not defined\n",
      "```\n",
      "\n"
     ]
    }
   ],
   "source": [
    "%%reprex --no-advertise\n",
    "\n",
    "notebook_var"
   ]
  }
 ],
 "metadata": {
  "kernelspec": {
   "display_name": "Python 3",
   "language": "python",
   "name": "python3"
  },
  "language_info": {
   "codemirror_mode": {
    "name": "ipython",
    "version": 3
   },
   "file_extension": ".py",
   "mimetype": "text/x-python",
   "name": "python",
   "nbconvert_exporter": "python",
   "pygments_lexer": "ipython3",
   "version": "3.8.6"
  }
 },
 "nbformat": 4,
 "nbformat_minor": 5
}
